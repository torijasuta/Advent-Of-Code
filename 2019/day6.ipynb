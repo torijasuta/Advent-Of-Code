{
 "cells": [
  {
   "cell_type": "code",
   "execution_count": 100,
   "metadata": {},
   "outputs": [],
   "source": [
    "import pandas as pd\n",
    "from anytree import Node, RenderTree\n",
    "\n",
    "def loop_through_inputs(input_list):    \n",
    "    for i in input_list:\n",
    "        parent = i.split(')')[0]\n",
    "        child = i.split(')')[1]\n",
    "        try:\n",
    "            globals()[child] = Node(child, parent=globals()[parent])\n",
    "            nodes.append(globals()[child])\n",
    "            completed_inputs.append(i)\n",
    "            input_list.remove(i)\n",
    "        except:\n",
    "            pass\n",
    "    return input_list, completed_inputs, nodes\n",
    "\n",
    "\n",
    "input_df = pd.read_csv('day6_input.txt', header=None)\n",
    "input_df.columns=['input']\n",
    "input_list = input_df['input'].tolist()\n",
    "# input_list = ['J)K', 'K)L', 'COM)B', 'B)C', 'C)D', 'D)E', 'E)F', 'B)G', 'G)H', 'D)I', 'E)J', ]\n",
    "\n",
    "completed_inputs = []\n",
    "nodes = []\n",
    "\n",
    "COM = Node('COM')\n",
    "\n",
    "while len(input_list) > 0:\n",
    "    input_list, completed_inputs, nodes = loop_through_inputs(input_list)\n",
    "    # print(len(input_list))\n",
    "\n",
    "counter = 0\n",
    "for i in nodes:\n",
    "    tmp_count = str(i).count('/') - 1\n",
    "    counter += tmp_count\n",
    "\n",
    "print(counter)"
   ]
  },
  {
   "cell_type": "code",
   "execution_count": 109,
   "metadata": {},
   "outputs": [],
   "source": [
    "def intersection(lst1, lst2): \n",
    "    lst3 = [value for value in lst1 if value in lst2] \n",
    "    return lst3 "
   ]
  },
  {
   "cell_type": "code",
   "execution_count": 103,
   "metadata": {},
   "outputs": [
    {
     "data": {
      "text/plain": [
       "\"Node('\""
      ]
     },
     "execution_count": 103,
     "metadata": {},
     "output_type": "execute_result"
    }
   ],
   "source": [
    "str(SAN).split('/')[0]"
   ]
  },
  {
   "cell_type": "code",
   "execution_count": 104,
   "metadata": {},
   "outputs": [],
   "source": [
    "santa_list = []\n",
    "for i in range(1, str(SAN).count('/')):\n",
    "    santa_list.append(str(SAN).split('/')[i])"
   ]
  },
  {
   "cell_type": "code",
   "execution_count": 106,
   "metadata": {},
   "outputs": [],
   "source": [
    "you_list = []\n",
    "for i in range(1, str(YOU).count('/')):\n",
    "    you_list.append(str(YOU).split('/')[i])"
   ]
  },
  {
   "cell_type": "code",
   "execution_count": 108,
   "metadata": {},
   "outputs": [
    {
     "name": "stdout",
     "output_type": "stream",
     "text": [
      "168\n",
      "288\n"
     ]
    }
   ],
   "source": [
    "print(len(santa_list))\n",
    "print(len(you_list))"
   ]
  },
  {
   "cell_type": "code",
   "execution_count": 118,
   "metadata": {},
   "outputs": [],
   "source": [
    "max_idx = 0\n",
    "for i in intersection(santa_list, you_list):\n",
    "    if you_list.index(i) > max_idx:\n",
    "        max_idx = you_list.index(i)"
   ]
  },
  {
   "cell_type": "code",
   "execution_count": 119,
   "metadata": {},
   "outputs": [
    {
     "data": {
      "text/plain": [
       "219"
      ]
     },
     "execution_count": 119,
     "metadata": {},
     "output_type": "execute_result"
    }
   ],
   "source": [
    "len(you_list) - max_idx"
   ]
  },
  {
   "cell_type": "code",
   "execution_count": 102,
   "metadata": {},
   "outputs": [
    {
     "data": {
      "text/plain": [
       "Node('/COM/857/NFK/6LG/C13/RJM/SXY/CC3/TQS/3DC/2R1/99M/R8T/B4N/BFG/RY2/LZ3/77W/MDN/FDS/DY3/V6V/N57/Z24/BL4/GYV/6DT/12V/MTZ/JRP/2VG/DY9/KPK/8HS/X4Z/NBT/PBT/DHZ/T83/ZTW/KV6/DFJ/V99/261/8VP/RFG/RN3/1X7/BSV/QDG/Z9Q/BJ5/9SS/1HN/12H/HSB/FS2/12C/9LV/R55/XFQ/SYM/9CQ/HYB/GSY/B7X/MYS/2CJ/WTS/SRJ/ZDP/W95/KF2/1D9/466/DT2/LML/Y2X/FXQ/T6Q/NKW/J84/Q8P/TSL/TDK/SJD/J9S/1FB/VH9/45H/N84/QKS/8D1/X4D/DTT/VGM/PH2/PQ3/QP8/WRH/HXF/D1Y/M3Z/Y8C/NQ3/2HH/9PB/DMT/YX9/S3G/18Z/9BY/H1T/T8H/L28/WM4/7W8/NKB/VBN/XRW/5MY/41W/NWL/1TX/SDD/2B6/9PJ/5RV/9NH/F8T/6YL/1JX/W31/YGJ/8NZ/HT5/M86/LV1/W6S/Q3L/2WC/YNV/1YL/WBF/X4C/MJJ/GJJ/QJP/ZZ6/24N/KVY/JCV/RKN/HXV/KK9/5JZ/6S5/PXR/V9H/G22/2CD/JC7/CL1/RLW/3V1/YQ6/82C/YTC/SAN')"
      ]
     },
     "execution_count": 102,
     "metadata": {},
     "output_type": "execute_result"
    }
   ],
   "source": [
    "SAN"
   ]
  },
  {
   "cell_type": "code",
   "execution_count": null,
   "metadata": {},
   "outputs": [],
   "source": []
  },
  {
   "cell_type": "code",
   "execution_count": 101,
   "metadata": {},
   "outputs": [
    {
     "data": {
      "text/plain": [
       "Node('/COM/857/NFK/6LG/C13/RJM/SXY/CC3/TQS/3DC/2R1/99M/R8T/B4N/BFG/RY2/LZ3/77W/MDN/FDS/DY3/V6V/N57/Z24/BL4/GYV/6DT/12V/MTZ/JRP/2VG/DY9/KPK/8HS/X4Z/NBT/PBT/DHZ/T83/ZTW/KV6/DFJ/V99/261/8VP/RFG/RN3/1X7/BSV/QDG/Z9Q/BJ5/9SS/1HN/12H/HSB/FS2/12C/9LV/R55/XFQ/SYM/9CQ/HYB/GSY/B7X/MYS/2CJ/WTS/SRJ/2DW/1RW/2TN/7VF/K4Z/W7B/1L5/QBX/FR1/HD3/GGW/16D/YPC/4ND/DYC/MRF/33G/XR2/YRD/RS5/PRC/PQV/78X/LZH/1PN/1HY/31T/DF6/7B2/8R3/5LN/62L/5R7/M2B/43W/2Y6/VR5/PKN/PBH/17V/JZF/YKS/Z5Z/SK8/MB5/V7C/S6H/KVL/H9C/BTJ/5Y1/SZQ/YYS/2NP/XY4/HYZ/RWR/LHC/D81/W1F/8TT/Z1P/7WS/CFQ/L68/P69/NQL/5ZB/443/S9Q/J4Y/ZCV/YLQ/9GS/19J/J6C/BGJ/M47/Z26/B38/J93/LP1/1F7/N34/72T/M1J/YH5/2RH/49M/53M/6CR/DB1/S4N/ZBH/RF6/C2Q/MDM/VTZ/P59/4SD/M6V/Y6N/P62/461/CG1/4GQ/JGG/Y33/VNH/58H/NFF/3LY/DCB/XYL/TMM/QDC/WGZ/QJ5/47M/19R/Y6G/23G/P33/7C2/Z1V/84J/QW6/2DQ/25P/J3R/LSW/BS7/VNB/FB2/6NW/69W/C92/4JQ/SGJ/2HG/ZYX/BJ6/S6X/7J4/H4T/YHN/LP8/641/PLK/LB8/L75/DQ1/ZDC/Z77/9SK/LWH/1B8/NBX/C4M/BYX/W1V/WJ8/VZ8/SPK/HVG/QWT/DST/SHD/VHZ/KDV/2BN/H4N/NT4/5KR/8VZ/BX2/FZL/NBV/3MY/PFT/BC3/J9X/91N/H3G/SWK/ZBT/L4Z/T41/62S/14R/2HT/WD9/VR8/9FZ/XLK/YNX/7J5/YKP/XKW/ZZD/PTB/CWG/HRQ/64T/CW9/PVZ/C18/M1C/Q7R/K9L/F7J/C8V/H6X/VKY/R1Q/SQC/69C/TPD/YOU')"
      ]
     },
     "execution_count": 101,
     "metadata": {},
     "output_type": "execute_result"
    }
   ],
   "source": [
    "YOU"
   ]
  },
  {
   "cell_type": "code",
   "execution_count": 93,
   "metadata": {},
   "outputs": [],
   "source": [
    "# for pre, fill, node in RenderTree(COM):\n",
    "#     print(\"%s%s\" % (pre, node.name))"
   ]
  },
  {
   "cell_type": "code",
   "execution_count": null,
   "metadata": {},
   "outputs": [],
   "source": []
  },
  {
   "cell_type": "code",
   "execution_count": 72,
   "metadata": {},
   "outputs": [
    {
     "data": {
      "text/plain": [
       "['B', 'C', 'D', 'E', 'F', 'G', 'H', 'I', 'J', 'K', 'L']"
      ]
     },
     "execution_count": 72,
     "metadata": {},
     "output_type": "execute_result"
    }
   ],
   "source": [
    "nodes"
   ]
  },
  {
   "cell_type": "code",
   "execution_count": 55,
   "metadata": {},
   "outputs": [
    {
     "name": "stdout",
     "output_type": "stream",
     "text": [
      "Node('/COM/B/G/H')\n"
     ]
    }
   ],
   "source": [
    "print(H)"
   ]
  },
  {
   "cell_type": "code",
   "execution_count": 56,
   "metadata": {},
   "outputs": [
    {
     "data": {
      "text/plain": [
       "anytree.node.node.Node"
      ]
     },
     "execution_count": 56,
     "metadata": {},
     "output_type": "execute_result"
    }
   ],
   "source": [
    "type(H)"
   ]
  },
  {
   "cell_type": "code",
   "execution_count": 57,
   "metadata": {},
   "outputs": [
    {
     "name": "stdout",
     "output_type": "stream",
     "text": [
      "Node('/COM/B/G')\n"
     ]
    }
   ],
   "source": [
    "print(G)"
   ]
  },
  {
   "cell_type": "code",
   "execution_count": 60,
   "metadata": {},
   "outputs": [
    {
     "data": {
      "text/plain": [
       "anytree.node.node.Node"
      ]
     },
     "execution_count": 60,
     "metadata": {},
     "output_type": "execute_result"
    }
   ],
   "source": [
    "type(G)"
   ]
  },
  {
   "cell_type": "code",
   "execution_count": 61,
   "metadata": {},
   "outputs": [
    {
     "data": {
      "text/plain": [
       "\"Node('/COM/B/G/H')\""
      ]
     },
     "execution_count": 61,
     "metadata": {},
     "output_type": "execute_result"
    }
   ],
   "source": [
    "str(H)"
   ]
  },
  {
   "cell_type": "code",
   "execution_count": 63,
   "metadata": {},
   "outputs": [
    {
     "data": {
      "text/plain": [
       "4"
      ]
     },
     "execution_count": 63,
     "metadata": {},
     "output_type": "execute_result"
    }
   ],
   "source": [
    "str(H).count('/') "
   ]
  },
  {
   "cell_type": "code",
   "execution_count": null,
   "metadata": {},
   "outputs": [],
   "source": []
  }
 ],
 "metadata": {
  "kernelspec": {
   "display_name": "Python 3",
   "language": "python",
   "name": "python3"
  },
  "language_info": {
   "codemirror_mode": {
    "name": "ipython",
    "version": 3
   },
   "file_extension": ".py",
   "mimetype": "text/x-python",
   "name": "python",
   "nbconvert_exporter": "python",
   "pygments_lexer": "ipython3",
   "version": "3.6.9"
  }
 },
 "nbformat": 4,
 "nbformat_minor": 2
}
